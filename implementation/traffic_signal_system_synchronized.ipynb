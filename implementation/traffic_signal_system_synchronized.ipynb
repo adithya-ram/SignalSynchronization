{
 "cells": [
  {
   "cell_type": "code",
   "execution_count": 256,
   "metadata": {},
   "outputs": [],
   "source": [
    "from scipy.optimize import linprog\n",
    "from matplotlib import pyplot as plt\n",
    "from matplotlib import image as mpimg"
   ]
  },
  {
   "cell_type": "code",
   "execution_count": 257,
   "metadata": {},
   "outputs": [
    {
     "data": {
      "text/plain": [
       "<matplotlib.image.AxesImage at 0x16b1f5b10>"
      ]
     },
     "execution_count": 257,
     "metadata": {},
     "output_type": "execute_result"
    },
    {
     "data": {
      "image/png": "[encoded data removed]",
      "text/plain": [
       "<Figure size 640x480 with 1 Axes>"
      ]
     },
     "metadata": {},
     "output_type": "display_data"
    }
   ],
   "source": [
    "# two intersection graph model to simulate results\n",
    "graphModel = mpimg.imread('road_network_graph.png')\n",
    "plt.imshow(graphModel)"
   ]
  },
  {
   "cell_type": "code",
   "execution_count": 258,
   "metadata": {},
   "outputs": [],
   "source": [
    "# this function returns time required in seconds to clear traffic on road with weight w (w indicates amount of waiting vehicles on road)\n",
    "# phase of 120 seconds is recommended by USA Transportation research board\n",
    "# so each combination gets 24-30 seconds\n",
    "def time_for_vehicles_to_clear_intersection(w):\n",
    "    # assuming the gap at intersection = 0.01 miles\n",
    "    intersection_gap = 0.01\n",
    "\n",
    "    # assuming the speed of vehicles is the road speed limit = 35 mph city roads (excluding interstates)\n",
    "    # speed in miles per second\n",
    "    speed_of_vehicles = 35 / 3600\n",
    "\n",
    "    time_to_clear_intersection = w * (intersection_gap/speed_of_vehicles)\n",
    "\n",
    "    # the synchornized traffic system optimize based on minimum time required to clear traffic flow\n",
    "    return min(30, time_to_clear_intersection)"
   ]
  },
  {
   "cell_type": "code",
   "execution_count": 259,
   "metadata": {},
   "outputs": [],
   "source": [
    "#This function clears Traffic on Edge x with Weight w\n",
    "#Return time required to clears Traffic with Weight w  on Road Edge x\n",
    "def clear_traffic_on_edge(x,w):\n",
    "    time  = time_for_vehicles_to_clear_intersection(w)\n",
    "    #print(\"Time to clear edge \"+x+\" = \"+str(time))\n",
    "    return time"
   ]
  },
  {
   "cell_type": "code",
   "execution_count": 260,
   "metadata": {
    "tags": []
   },
   "outputs": [],
   "source": [
    "#Weights on Edges Indicating Vehicles on Road\n",
    "#Ignoring Weights on Edges for Right Lane, assuming Right Lane is Free to Go\n",
    "\n",
    "w_1_l = 10\n",
    "w_1_c = 8\n",
    "w_2_l = 0\n",
    "w_2_c = 0\n",
    "w_3_l = 15\n",
    "w_3_c = 17\n",
    "w_4_l = 0\n",
    "w_4_c = 0\n",
    "w_5_l = 18\n",
    "w_5_c = 16\n",
    "w_6_l = 0\n",
    "w_6_c = 0\n",
    "w_7_l = 5\n",
    "w_7_c = 7\n",
    "w_8_l = 0\n",
    "w_8_c = 0\n",
    "w_9_l = 5\n",
    "w_9_c = 7\n",
    "w_10_l = 0\n",
    "w_10_c = 0\n",
    "w_11_l = 6\n",
    "w_11_c = 14\n",
    "w_12_l = 0\n",
    "w_12_c = 0\n",
    "w_13_l = 15\n",
    "w_13_c = 7\n",
    "w_14_l = 0\n",
    "w_14_c = 0"
   ]
  },
  {
   "cell_type": "code",
   "execution_count": 261,
   "metadata": {},
   "outputs": [],
   "source": [
    "# variables for ILP\n",
    "# 8 variables per intersection\n",
    "# 1, 3, 5, 7 variables indicate inflow traffic, variables which are to be optimized\n",
    "# 2, 4, 6, 8 variables doesnt matter at this time, as we are only solving the max traffic clearing one intersection \n",
    "# and ignoring the fact that the traffic cleared at one intersection will pool up at next edge\n",
    "x_1_l = 0\n",
    "x_1_c = 0\n",
    "x_2_l = 0\n",
    "x_2_c = 0\n",
    "x_3_l = 0\n",
    "x_3_c = 0\n",
    "x_4_l = 0\n",
    "x_4_c = 0\n",
    "x_5_l = 0\n",
    "x_5_c = 0\n",
    "x_6_l = 0\n",
    "x_6_c = 0\n",
    "x_7_l = 0\n",
    "x_7_c = 0\n",
    "x_8_l = 0\n",
    "x_8_c = 0\n",
    "x_9_l = 0\n",
    "x_9_c = 0\n",
    "x_10_l = 0\n",
    "x_10_c = 0\n",
    "x_11_l = 0\n",
    "x_11_c = 0\n",
    "x_12_l = 0\n",
    "x_12_c = 0\n",
    "x_13_l = 0\n",
    "x_13_c = 0\n",
    "x_14_l = 0\n",
    "x_14_c = 0"
   ]
  },
  {
   "cell_type": "code",
   "execution_count": 262,
   "metadata": {},
   "outputs": [],
   "source": [
    "# priority constants k for edges such that it ensures two things\n",
    "# one, it ensures synchronization is given priority\n",
    "# two, it also ensures edge activations are stalled, or aligned to same road after every cycle\n",
    "# case one is observed below\n",
    "# case two is not observed as the simulation doesnt assume the traffic gets updated on roads after every cycle\n",
    "\n",
    "k_1_c = 1\n",
    "k_3_c = 1\n",
    "k_5_c = 1\n",
    "k_7_c = 1\n",
    "k_1_l = 1\n",
    "k_3_l = 1\n",
    "k_5_l = 1\n",
    "k_7_l = 1\n",
    "\n",
    "k_6_c = 1\n",
    "k_9_c = 1\n",
    "k_11_c = 1\n",
    "k_13_c = 1\n",
    "k_6_l = 1\n",
    "k_9_l = 1\n",
    "k_11_l = 1\n",
    "k_13_l = 1"
   ]
  },
  {
   "cell_type": "code",
   "execution_count": 263,
   "metadata": {},
   "outputs": [],
   "source": [
    "def traffic_optimization_model_ILP(w_1_c, w_3_c, w_5_c, w_7_c, w_1_l, w_3_l, w_5_l, w_7_l, k_1_c, k_3_c, k_5_c, k_7_c, k_1_l, k_3_l, k_5_l, k_7_l):\n",
    "    # objective for Intersection I-1\n",
    "    # objective -> (w_1_c * x_1_c) + (w_3_c * x_3_c) + (w_5_c * x_5_c) + (w_7_c * x_7_c) + (w_1_l * x_1_l) + (w_3_l * x_3_l) + (w_5_l * x_5_l) + (w_7_l * x_7_l) -> MAX\n",
    "    \n",
    "    objective = [-1*w_1_c*k_1_c, -1*w_3_c*k_3_c, -1*w_5_c*k_5_c, -1*w_7_c*k_7_c, -1*w_1_l*k_1_l, -1*w_3_l*k_3_l, -1*w_5_l*k_5_l, -1*w_7_l*k_7_l]\n",
    "\n",
    "    # variables order\n",
    "    # x_1_c, x_3_c, x_5_c, x_7_c, x_1_l, x_3_l, x_5_l, x_7_l\n",
    "\n",
    "    # constraints for Intersection I-1\n",
    "    # 3 major constraits to avoid collison\n",
    "    # C1 : avoid straight traffic - straight traffic flow collisions\n",
    "    # C2 : avoid straight traffic - left traffic flow collisions\n",
    "    # C3 : avoid left traffic flow - left traffic flow collisions\n",
    "    lhs_inequality = []\n",
    "    rhs_inequality = []\n",
    "\n",
    "    # Constraint 1 (C1) : adjacent inflow edges both cannot go straight at same time\n",
    "    # C1 - 1 : for edge 1 and its adjacent edges (3,7)\n",
    "    # x_1_c + x_3_c <= 1\n",
    "    lhs_inequality.append([1,1,0,0,0,0,0,0])\n",
    "    rhs_inequality.append(1)\n",
    "\n",
    "    # x_1_c + x_7_c <= 1\n",
    "    lhs_inequality.append([1,0,0,1,0,0,0,0])\n",
    "    rhs_inequality.append(1)\n",
    "\n",
    "    # C1 - 3 : for edge 3 and its adjacent edges (1,5)\n",
    "    # x_1_c + x_3_c <= 1\n",
    "    # covered above C1 - 1\n",
    "\n",
    "    # x_3_c + x_5_c <= 1\n",
    "    lhs_inequality.append([0,1,1,0,0,0,0,0])\n",
    "    rhs_inequality.append(1)\n",
    "\n",
    "    # C1 - 5 : for edge 5 and its adjacent edges (3,7)\n",
    "    # x_3_c + x_5_c <= 1\n",
    "    # covered above C1 - 3\n",
    "\n",
    "    # x_5_c + x_7_c <= 1\n",
    "    lhs_inequality.append([0,0,1,1,0,0,0,0])\n",
    "    rhs_inequality.append(1)\n",
    "\n",
    "    # C1 - 7 : for edge 7 and its adjacent edges (1,5)\n",
    "    # x_1_c + x_7_c <= 1\n",
    "    # covered above C1 - 1\n",
    "\n",
    "    # x_5_c + x_7_c <= 1\n",
    "    # covered above C1 - 5\n",
    "\n",
    "    # Constraint 2 (C2) : one edge straight and all other possible edges that cannot go left\n",
    "    # C2 - 1 : for edge 1 and its possible left allowed edges (7, 5)\n",
    "    # x_1_c + x_7_l <= 1\n",
    "    lhs_inequality.append([1,0,0,0,0,0,0,1])\n",
    "    rhs_inequality.append(1)\n",
    "\n",
    "    # x_1_c + x_5_l <= 1\n",
    "    lhs_inequality.append([1,0,0,0,0,0,1,0])\n",
    "    rhs_inequality.append(1)\n",
    "\n",
    "    # C2 - 3 : for edge 3 and its possible left allowed edges (1, 7)\n",
    "    # x_3_c + x_1_l <= 1\n",
    "    lhs_inequality.append([0,1,0,0,1,0,0,0])\n",
    "    rhs_inequality.append(1)\n",
    "\n",
    "    # x_3_c + x_7_l <= 1\n",
    "    lhs_inequality.append([0,1,0,0,0,0,0,1])\n",
    "    rhs_inequality.append(1)\n",
    "\n",
    "    # C2 - 5 : for edge 5 and its possible left allowed edges (3, 1)\n",
    "    # x_5_c + x_3_l <= 1\n",
    "    lhs_inequality.append([0,0,1,0,0,1,0,0])\n",
    "    rhs_inequality.append(1)\n",
    "\n",
    "    # x_5_c + x_1_l <= 1\n",
    "    lhs_inequality.append([0,0,1,0,1,0,0,0])\n",
    "    rhs_inequality.append(1)\n",
    "\n",
    "    # C2 - 7 : for edge 7 and its possible left allowed edges (5, 3)\n",
    "    # x_7_c + x_5_l <= 1\n",
    "    lhs_inequality.append([0,0,0,1,0,0,1,0])\n",
    "    rhs_inequality.append(1)\n",
    "\n",
    "    # x_7_c + x_3_l <= 1\n",
    "    lhs_inequality.append([0,0,0,1,0,1,0,0])\n",
    "    rhs_inequality.append(1)\n",
    "\n",
    "    # Constraint 3 (C3) : edge and its anticlock adjacent edge both cannot go left at same time\n",
    "    # C3 - 1 : for edge 1 and its anticlock adjacent edges (7)\n",
    "    # x_1_l + x_7_l <= 1\n",
    "    lhs_inequality.append([0,0,0,0,1,0,0,1])\n",
    "    rhs_inequality.append(1)\n",
    "\n",
    "    # C3 - 3 : for edge 3 and its anticlock adjacent edges (1)\n",
    "    # x_3_l + x_1_l <= 1\n",
    "    lhs_inequality.append([0,0,0,0,1,1,0,0])\n",
    "    rhs_inequality.append(1)\n",
    "\n",
    "    # C3 - 5 : for edge 5 and its anticlock adjacent edges (3)\n",
    "    # x_5_l + x_3_l <= 1\n",
    "    lhs_inequality.append([0,0,0,0,0,1,1,0])\n",
    "    rhs_inequality.append(1)\n",
    "\n",
    "    # C3 - 7 : for edge 7 and its anticlock adjacent edges (5)\n",
    "    # x_7_l + x_5_l <= 1\n",
    "    lhs_inequality.append([0,0,0,0,0,0,1,1])\n",
    "    rhs_inequality.append(1)\n",
    "\n",
    "    \n",
    "    opt = linprog(c = objective, A_ub = lhs_inequality, b_ub = rhs_inequality, method = 'highs', integrality = [1, 1, 1, 1, 1, 1, 1, 1])\n",
    "    return opt.x\n"
   ]
  },
  {
   "cell_type": "code",
   "execution_count": 264,
   "metadata": {},
   "outputs": [],
   "source": [
    "def display_optimal_signal_setting_at_intersection_1(signal_setting):\n",
    "    print(\"Optimal Signal Setting for Intersection I-1\")\n",
    "    for i in range(0,8):\n",
    "        if i >= 0 and i <= 3:\n",
    "            if i == 0:\n",
    "                print(\"x_1_c = \"+str(int(signal_setting[i])))\n",
    "            elif i == 1:\n",
    "                print(\"x_3_c = \"+str(int(signal_setting[i])))\n",
    "            elif i == 2:\n",
    "                print(\"x_5_c = \"+str(int(signal_setting[i])))\n",
    "            elif i == 3:\n",
    "                print(\"x_7_c = \"+str(int(signal_setting[i])))\n",
    "        else:\n",
    "            if i == 4:\n",
    "                print(\"x_1_l = \"+str(int(signal_setting[i])))\n",
    "            elif i == 5:\n",
    "                print(\"x_3_l = \"+str(int(signal_setting[i])))\n",
    "            elif i == 6:\n",
    "                print(\"x_5_l = \"+str(int(signal_setting[i])))\n",
    "            elif i == 7:\n",
    "                print(\"x_7_l = \"+str(int(signal_setting[i])))\n",
    "\n",
    "def display_optimal_signal_setting_at_intersection_2(signal_setting):\n",
    "    print(\"Optimal Signal Setting for Intersection I-2\")\n",
    "    for i in range(0,8):\n",
    "        if i >= 0 and i <= 3:\n",
    "            if i == 0:\n",
    "                print(\"x_6_c = \"+str(int(signal_setting[i])))\n",
    "            elif i == 1:\n",
    "                print(\"x_9_c = \"+str(int(signal_setting[i])))\n",
    "            elif i == 2:\n",
    "                print(\"x_11_c = \"+str(int(signal_setting[i])))\n",
    "            elif i == 3:\n",
    "                print(\"x_13_c = \"+str(int(signal_setting[i])))\n",
    "        else:\n",
    "            if i == 4:\n",
    "                print(\"x_6_l = \"+str(int(signal_setting[i])))\n",
    "            elif i == 5:\n",
    "                print(\"x_9_l = \"+str(int(signal_setting[i])))\n",
    "            elif i == 6:\n",
    "                print(\"x_11_l = \"+str(int(signal_setting[i])))\n",
    "            elif i == 7:\n",
    "                print(\"x_13_l = \"+str(int(signal_setting[i])))"
   ]
  },
  {
   "cell_type": "code",
   "execution_count": 265,
   "metadata": {},
   "outputs": [
    {
     "name": "stdout",
     "output_type": "stream",
     "text": [
      "Optimal Signal Setting for Intersection I-1\n",
      "x_1_c = 0\n",
      "x_3_c = 1\n",
      "x_5_c = 0\n",
      "x_7_c = 0\n",
      "x_1_l = 0\n",
      "x_3_l = 0\n",
      "x_5_l = 1\n",
      "x_7_l = 0\n",
      "Optimal Signal Setting for Intersection I-2\n",
      "x_6_c = 0\n",
      "x_9_c = 0\n",
      "x_11_c = 1\n",
      "x_13_c = 0\n",
      "x_6_l = 0\n",
      "x_9_l = 0\n",
      "x_11_l = 0\n",
      "x_13_l = 1\n"
     ]
    }
   ],
   "source": [
    "time = 0\n",
    "\n",
    "signal_setting_I_1 = traffic_optimization_model_ILP(w_1_c, w_3_c, w_5_c, w_7_c, w_1_l, w_3_l, w_5_l, w_7_l, k_1_c, k_3_c, k_5_c, k_7_c, k_1_l, k_3_l, k_5_l, k_7_l)\n",
    "display_optimal_signal_setting_at_intersection_1(signal_setting_I_1)\n",
    "\n",
    "signal_setting_I_2 = traffic_optimization_model_ILP(w_6_c, w_9_c, w_11_c, w_13_c, w_6_l, w_9_l, w_11_l, w_13_l, k_6_c, k_9_c, k_11_c, k_13_c, k_6_l, k_9_l, k_11_l, k_13_l)\n",
    "display_optimal_signal_setting_at_intersection_2(signal_setting_I_2)"
   ]
  },
  {
   "cell_type": "code",
   "execution_count": 266,
   "metadata": {},
   "outputs": [
    {
     "name": "stdout",
     "output_type": "stream",
     "text": [
      "Time(seconds) for edge x_3_c to be cleared at Intersection I1 = 17.485714285714284\n",
      "Time(seconds) for edge x_5_l to be cleared at Intersection I1 = 18.514285714285712\n",
      "Time(seconds) for edge x_13_l to be cleared at Intersection I2 = 15.428571428571427\n",
      "Time(seconds) for edge x_11_c to be cleared at Intersection I2 = 14.399999999999999\n",
      "Max time(seconds) for edge x_3_c,x_5_l,x_11_c,x_13_l to be cleared at Intersection I1 and I2 = 18.514285714285712\n"
     ]
    }
   ],
   "source": [
    "time_I1_1 = clear_traffic_on_edge(\"x_3_c\", w_3_c)\n",
    "w_3_c = 0\n",
    "print(\"Time(seconds) for edge x_3_c to be cleared at Intersection I1 = \"+str(time_I1_1))\n",
    "\n",
    "time_I1_2 = clear_traffic_on_edge(\"x_5_l\", w_5_l)\n",
    "w_5_l = 0\n",
    "print(\"Time(seconds) for edge x_5_l to be cleared at Intersection I1 = \"+str(time_I1_2))\n",
    "\n",
    "time_I2_1 = clear_traffic_on_edge(\"x_13_l\", w_13_l)\n",
    "w_13_l = 0\n",
    "print(\"Time(seconds) for edge x_13_l to be cleared at Intersection I2 = \"+str(time_I2_1))\n",
    "\n",
    "time_I2_2 = clear_traffic_on_edge(\"x_11_c\", w_11_c)\n",
    "w_11_c = 0\n",
    "print(\"Time(seconds) for edge x_11_c to be cleared at Intersection I2 = \"+str(time_I2_2))\n",
    "\n",
    "# max time for this combination to be cleared\n",
    "time = time + max(time_I1_1, time_I1_2, time_I2_1, time_I2_2)\n",
    "print(\"Max time(seconds) for edge x_3_c,x_5_l,x_11_c,x_13_l to be cleared at Intersection I1 and I2 = \"+str(time))"
   ]
  },
  {
   "cell_type": "code",
   "execution_count": 267,
   "metadata": {},
   "outputs": [
    {
     "name": "stdout",
     "output_type": "stream",
     "text": [
      "Optimal Signal Setting for Intersection I-1\n",
      "x_1_c = 1\n",
      "x_3_c = 0\n",
      "x_5_c = 1\n",
      "x_7_c = 0\n",
      "x_1_l = 0\n",
      "x_3_l = 0\n",
      "x_5_l = 0\n",
      "x_7_l = 0\n"
     ]
    }
   ],
   "source": [
    "\n",
    "signal_setting_I_1 = traffic_optimization_model_ILP(w_1_c, w_3_c, w_5_c, w_7_c, w_1_l, w_3_l, w_5_l, w_7_l, k_1_c, k_3_c, k_5_c, k_7_c, k_1_l, k_3_l, k_5_l, k_7_l)\n",
    "display_optimal_signal_setting_at_intersection_1(signal_setting_I_1)"
   ]
  },
  {
   "cell_type": "code",
   "execution_count": 268,
   "metadata": {},
   "outputs": [
    {
     "name": "stdout",
     "output_type": "stream",
     "text": [
      "Time(seconds) for edge x_1_c to be cleared at Intersection I1 = 8.228571428571428\n",
      "Optimal Signal Setting for Intersection I-2\n",
      "x_6_c = 1\n",
      "x_9_c = 0\n",
      "x_11_c = 0\n",
      "x_13_c = 0\n",
      "x_6_l = 0\n",
      "x_9_l = 1\n",
      "x_11_l = 0\n",
      "x_13_l = 0\n",
      "Time(seconds) for edge x_6_c to be cleared at Intersection I2 = 8.228571428571428\n",
      "Time(seconds) for edge x_9_l to be cleared at Intersection I2 = 5.142857142857142\n",
      "Time(seconds) for edge x_5_c to be cleared at Intersection I1 = 16.457142857142856\n",
      "Max time(seconds) for edge x_1_c,x_5_c,x_6_c,x_9_l to be cleared at Intersection I1 and I2 = 34.97142857142857\n"
     ]
    }
   ],
   "source": [
    "time_I1_1 = clear_traffic_on_edge(\"x_1_c\", w_1_c)\n",
    "w_6_c = w_1_c # this ensures the synchronized path 1 -> 6 -> 12 gets enabled by the traffic signal system\n",
    "k_6_c = k_6_c * 10 # edge 6 given priority to \n",
    "w_1_c = 0\n",
    "print(\"Time(seconds) for edge x_1_c to be cleared at Intersection I1 = \"+str(time_I1_1))\n",
    "\n",
    "# SYNCHRONIZATION STEP\n",
    "# now we try to prioritize the x_6_c edge with higher priority and ensure the signal at Intersection I - 2 is enabled to clear this traffic\n",
    "signal_setting_I_2 = traffic_optimization_model_ILP(w_6_c, w_9_c, w_11_c, w_13_c, w_6_l, w_9_l, w_11_l, w_13_l, k_6_c, k_9_c, k_11_c, k_13_c, k_6_l, k_9_l, k_11_l, k_13_l)\n",
    "display_optimal_signal_setting_at_intersection_2(signal_setting_I_2)\n",
    "\n",
    "# parallely the edge x_6_c gets activated due to higher priority during this time\n",
    "time_I2_1 = clear_traffic_on_edge(\"x_6_c\", w_6_c)\n",
    "time_I2_2 = clear_traffic_on_edge(\"x_9_l\", w_9_l)\n",
    "print(\"Time(seconds) for edge x_6_c to be cleared at Intersection I2 = \"+str(time_I2_1))\n",
    "print(\"Time(seconds) for edge x_9_l to be cleared at Intersection I2 = \"+str(time_I2_2))\n",
    "w_6_c = 0\n",
    "w_9_l = 0\n",
    "\n",
    "time_I1_2 = clear_traffic_on_edge(\"x_5_c\", w_5_c)\n",
    "w_5_c = 0\n",
    "print(\"Time(seconds) for edge x_5_c to be cleared at Intersection I1 = \"+str(time_I1_2))\n",
    "\n",
    "# max time for this combination to be cleared\n",
    "time = time + max(time_I1_1, time_I1_2, time_I2_1, time_I2_2)\n",
    "print(\"Max time(seconds) for edge x_1_c,x_5_c,x_6_c,x_9_l to be cleared at Intersection I1 and I2 = \"+str(time))"
   ]
  },
  {
   "cell_type": "code",
   "execution_count": 269,
   "metadata": {},
   "outputs": [
    {
     "name": "stdout",
     "output_type": "stream",
     "text": [
      "Optimal Signal Setting for Intersection I-1\n",
      "x_1_c = 0\n",
      "x_3_c = 0\n",
      "x_5_c = 0\n",
      "x_7_c = 0\n",
      "x_1_l = 0\n",
      "x_3_l = 1\n",
      "x_5_l = 0\n",
      "x_7_l = 1\n",
      "Optimal Signal Setting for Intersection I-2\n",
      "x_6_c = 0\n",
      "x_9_c = 1\n",
      "x_11_c = 0\n",
      "x_13_c = 1\n",
      "x_6_l = 0\n",
      "x_9_l = 0\n",
      "x_11_l = 0\n",
      "x_13_l = 0\n"
     ]
    }
   ],
   "source": [
    "signal_setting_I_1 = traffic_optimization_model_ILP(w_1_c, w_3_c, w_5_c, w_7_c, w_1_l, w_3_l, w_5_l, w_7_l, k_1_c, k_3_c, k_5_c, k_7_c, k_1_l, k_3_l, k_5_l, k_7_l)\n",
    "display_optimal_signal_setting_at_intersection_1(signal_setting_I_1)\n",
    "\n",
    "signal_setting_I_2 = traffic_optimization_model_ILP(w_6_c, w_9_c, w_11_c, w_13_c, w_6_l, w_9_l, w_11_l, w_13_l, k_6_c, k_9_c, k_11_c, k_13_c, k_6_l, k_9_l, k_11_l, k_13_l)\n",
    "display_optimal_signal_setting_at_intersection_2(signal_setting_I_2)"
   ]
  },
  {
   "cell_type": "code",
   "execution_count": 270,
   "metadata": {},
   "outputs": [
    {
     "name": "stdout",
     "output_type": "stream",
     "text": [
      "Time(seconds) for edge x_3_l to be cleared at Intersection I1 = 15.428571428571427\n",
      "Time(seconds) for edge x_7_l to be cleared at Intersection I1 = 5.142857142857142\n",
      "Time(seconds) for edge x_13_c to be cleared at Intersection I2 = 7.199999999999999\n",
      "Time(seconds) for edge x_9_c to be cleared at Intersection I2 = 7.199999999999999\n",
      "Max time(seconds) for edge x_3_l,x_7_l,x_13_c,x_9_c to be cleared at Intersection I1 and I2 = 50.39999999999999\n"
     ]
    }
   ],
   "source": [
    "time_I1_1 = clear_traffic_on_edge(\"x_3_l\", w_3_l)\n",
    "w_3_l = 0\n",
    "print(\"Time(seconds) for edge x_3_l to be cleared at Intersection I1 = \"+str(time_I1_1))\n",
    "\n",
    "time_I1_2 = clear_traffic_on_edge(\"x_7_l\", w_7_l)\n",
    "w_7_l = 0\n",
    "print(\"Time(seconds) for edge x_7_l to be cleared at Intersection I1 = \"+str(time_I1_2))\n",
    "\n",
    "time_I2_1 = clear_traffic_on_edge(\"x_13_c\", w_13_c)\n",
    "w_13_c = 0\n",
    "print(\"Time(seconds) for edge x_13_c to be cleared at Intersection I2 = \"+str(time_I2_1))\n",
    "\n",
    "time_I2_2 = clear_traffic_on_edge(\"x_9_c\", w_9_c)\n",
    "w_9_c = 0\n",
    "print(\"Time(seconds) for edge x_9_c to be cleared at Intersection I2 = \"+str(time_I2_2))\n",
    "\n",
    "# max time for this combination to be cleared\n",
    "time = time + max(time_I1_1, time_I1_2, time_I2_1, time_I2_2)\n",
    "print(\"Max time(seconds) for edge x_3_l,x_7_l,x_13_c,x_9_c to be cleared at Intersection I1 and I2 = \"+str(time))"
   ]
  },
  {
   "cell_type": "code",
   "execution_count": 271,
   "metadata": {},
   "outputs": [
    {
     "name": "stdout",
     "output_type": "stream",
     "text": [
      "Optimal Signal Setting for Intersection I-1\n",
      "x_1_c = 0\n",
      "x_3_c = 0\n",
      "x_5_c = 0\n",
      "x_7_c = 1\n",
      "x_1_l = 1\n",
      "x_3_l = 0\n",
      "x_5_l = 0\n",
      "x_7_l = 0\n",
      "Optimal Signal Setting for Intersection I-2\n",
      "x_6_c = 0\n",
      "x_9_c = 0\n",
      "x_11_c = 0\n",
      "x_13_c = 0\n",
      "x_6_l = 0\n",
      "x_9_l = 0\n",
      "x_11_l = 1\n",
      "x_13_l = 0\n"
     ]
    }
   ],
   "source": [
    "signal_setting_I_1 = traffic_optimization_model_ILP(w_1_c, w_3_c, w_5_c, w_7_c, w_1_l, w_3_l, w_5_l, w_7_l, k_1_c, k_3_c, k_5_c, k_7_c, k_1_l, k_3_l, k_5_l, k_7_l)\n",
    "display_optimal_signal_setting_at_intersection_1(signal_setting_I_1)\n",
    "\n",
    "signal_setting_I_2 = traffic_optimization_model_ILP(w_6_c, w_9_c, w_11_c, w_13_c, w_6_l, w_9_l, w_11_l, w_13_l, k_6_c, k_9_c, k_11_c, k_13_c, k_6_l, k_9_l, k_11_l, k_13_l)\n",
    "display_optimal_signal_setting_at_intersection_2(signal_setting_I_2)"
   ]
  },
  {
   "cell_type": "code",
   "execution_count": 272,
   "metadata": {},
   "outputs": [
    {
     "name": "stdout",
     "output_type": "stream",
     "text": [
      "Time(seconds) for edge x_7_c to be cleared at Intersection I1 = 7.199999999999999\n",
      "Time(seconds) for edge x_1_l to be cleared at Intersection I1 = 10.285714285714285\n",
      "Time(seconds) for edge x_11_l to be cleared at Intersection I2 = 6.171428571428571\n",
      "Max time(seconds) for edge x_7_c,x_1_l,x_11_l to be cleared at Intersection I1 and I2 = 60.685714285714276\n"
     ]
    }
   ],
   "source": [
    "time_I1_1 = clear_traffic_on_edge(\"x_7_c\", w_7_c)\n",
    "w_7_c = 0\n",
    "print(\"Time(seconds) for edge x_7_c to be cleared at Intersection I1 = \"+str(time_I1_1))\n",
    "\n",
    "time_I1_2 = clear_traffic_on_edge(\"x_1_l\", w_1_l)\n",
    "w_1_l = 0\n",
    "print(\"Time(seconds) for edge x_1_l to be cleared at Intersection I1 = \"+str(time_I1_2))\n",
    "\n",
    "time_I2_1 = clear_traffic_on_edge(\"x_11_l\", w_11_l)\n",
    "w_11_l = 0\n",
    "print(\"Time(seconds) for edge x_11_l to be cleared at Intersection I2 = \"+str(time_I2_1))\n",
    "\n",
    "\n",
    "# max time for this combination to be cleared\n",
    "time = time + max(time_I1_1, time_I1_2, time_I2_1, time_I2_2)\n",
    "print(\"Max time(seconds) for edge x_7_c,x_1_l,x_11_l to be cleared at Intersection I1 and I2 = \"+str(time))"
   ]
  },
  {
   "cell_type": "code",
   "execution_count": 273,
   "metadata": {},
   "outputs": [
    {
     "name": "stdout",
     "output_type": "stream",
     "text": [
      "Optimal Signal Setting for Intersection I-1\n",
      "x_1_c = 0\n",
      "x_3_c = 0\n",
      "x_5_c = 0\n",
      "x_7_c = 0\n",
      "x_1_l = 0\n",
      "x_3_l = 0\n",
      "x_5_l = 0\n",
      "x_7_l = 0\n",
      "Optimal Signal Setting for Intersection I-2\n",
      "x_6_c = 0\n",
      "x_9_c = 0\n",
      "x_11_c = 0\n",
      "x_13_c = 0\n",
      "x_6_l = 0\n",
      "x_9_l = 0\n",
      "x_11_l = 0\n",
      "x_13_l = 0\n"
     ]
    }
   ],
   "source": [
    "signal_setting_I_1 = traffic_optimization_model_ILP(w_1_c, w_3_c, w_5_c, w_7_c, w_1_l, w_3_l, w_5_l, w_7_l, k_1_c, k_3_c, k_5_c, k_7_c, k_1_l, k_3_l, k_5_l, k_7_l)\n",
    "display_optimal_signal_setting_at_intersection_1(signal_setting_I_1)\n",
    "\n",
    "signal_setting_I_2 = traffic_optimization_model_ILP(w_6_c, w_9_c, w_11_c, w_13_c, w_6_l, w_9_l, w_11_l, w_13_l, k_6_c, k_9_c, k_11_c, k_13_c, k_6_l, k_9_l, k_11_l, k_13_l)\n",
    "display_optimal_signal_setting_at_intersection_2(signal_setting_I_2)"
   ]
  },
  {
   "cell_type": "code",
   "execution_count": 274,
   "metadata": {},
   "outputs": [],
   "source": [
    "# end of program as all traffic has been cleared"
   ]
  }
 ],
 "metadata": {
  "kernelspec": {
   "display_name": "Python 3",
   "language": "python",
   "name": "python3"
  },
  "language_info": {
   "codemirror_mode": {
    "name": "ipython",
    "version": 3
   },
   "file_extension": ".py",
   "mimetype": "text/x-python",
   "name": "python",
   "nbconvert_exporter": "python",
   "pygments_lexer": "ipython3",
   "version": "3.10.6"
  },
  "orig_nbformat": 4
 },
 "nbformat": 4,
 "nbformat_minor": 2
}
